{
 "cells": [
  {
   "cell_type": "markdown",
   "metadata": {
    "id": "Gn20tlw_tGTq"
   },
   "source": [
    "# Initialization\n"
   ]
  },
  {
   "cell_type": "markdown",
   "metadata": {
    "id": "5-v8RaRmte4r"
   },
   "source": [
    "## Dependencies"
   ]
  },
  {
   "cell_type": "code",
   "execution_count": 1,
   "metadata": {
    "colab": {
     "base_uri": "https://localhost:8080/"
    },
    "id": "_Els2NJ6cuPm",
    "outputId": "545e64f5-ff40-4103-d7dc-86200e522b1a"
   },
   "outputs": [
    {
     "name": "stdout",
     "output_type": "stream",
     "text": [
      "Requirement already satisfied: kaggle in /opt/conda/lib/python3.7/site-packages (1.5.12)\n",
      "Requirement already satisfied: requests in /opt/conda/lib/python3.7/site-packages (from kaggle) (2.25.1)\n",
      "Requirement already satisfied: python-slugify in /opt/conda/lib/python3.7/site-packages (from kaggle) (5.0.2)\n",
      "Requirement already satisfied: urllib3 in /opt/conda/lib/python3.7/site-packages (from kaggle) (1.26.7)\n",
      "Requirement already satisfied: six>=1.10 in /opt/conda/lib/python3.7/site-packages (from kaggle) (1.16.0)\n",
      "Requirement already satisfied: certifi in /opt/conda/lib/python3.7/site-packages (from kaggle) (2021.10.8)\n",
      "Requirement already satisfied: python-dateutil in /opt/conda/lib/python3.7/site-packages (from kaggle) (2.8.2)\n",
      "Requirement already satisfied: tqdm in /opt/conda/lib/python3.7/site-packages (from kaggle) (4.62.3)\n",
      "Requirement already satisfied: text-unidecode>=1.3 in /opt/conda/lib/python3.7/site-packages (from python-slugify->kaggle) (1.3)\n",
      "Requirement already satisfied: idna<3,>=2.5 in /opt/conda/lib/python3.7/site-packages (from requests->kaggle) (2.10)\n",
      "Requirement already satisfied: chardet<5,>=3.0.2 in /opt/conda/lib/python3.7/site-packages (from requests->kaggle) (4.0.0)\n",
      "Note: you may need to restart the kernel to use updated packages.\n"
     ]
    }
   ],
   "source": [
    "pip install kaggle"
   ]
  },
  {
   "cell_type": "code",
   "execution_count": 2,
   "metadata": {},
   "outputs": [],
   "source": [
    "import os\n",
    "\n",
    "root_dir = os.path.dirname(os.path.abspath('PageRank_IMDB.jpynb'))\n",
    "\n",
    "content_dir = os.path.join(root_dir, \"content/\")\n",
    "if not os.path.isdir(content_dir):\n",
    "    os.mkdir(content_dir)\n",
    "    \n",
    "kaggle_dir = os.path.join(root_dir, \".kaggle/\")\n",
    "if not os.path.isdir(kaggle_dir):\n",
    "    os.mkdir(kaggle_dir)    \n",
    "    \n",
    "variables_dir = os.path.join(content_dir, \"variables/\")\n",
    "if not os.path.isdir(variables_dir):\n",
    "    os.mkdir(variables_dir)       "
   ]
  },
  {
   "cell_type": "code",
   "execution_count": 3,
   "metadata": {},
   "outputs": [],
   "source": [
    "# DO NOT RUN ON DEBIAN VM, JDK IS PREINSTALLED\n",
    "#!sudo apt-get install openjdk-11-jdk-headless -qq > /dev/null"
   ]
  },
  {
   "cell_type": "code",
   "execution_count": 4,
   "metadata": {
    "id": "6Utm4R6ztiPJ",
    "tags": []
   },
   "outputs": [],
   "source": [
    "import gc\n",
    "import json\n",
    "import zipfile\n",
    "import pickle\n",
    "import pandas as pd\n",
    "import numpy as np\n",
    "import networkx as nx\n",
    "import matplotlib.pyplot as plt\n",
    "import sys\n",
    "\n",
    "def getsize(obj):\n",
    "    print('{:.2f} MB'.format(sys.getsizeof(obj)/(2**20)))"
   ]
  },
  {
   "cell_type": "code",
   "execution_count": 5,
   "metadata": {
    "id": "esGpjZNrfMdF"
   },
   "outputs": [],
   "source": [
    "#@title API\n",
    "api_token = {\"username\":\"fabio130497\",\"key\":\"31a9c66aa9c83a4ed5a4d33acff7e78b\"}\n",
    "with open(os.path.join(kaggle_dir, 'kaggle.json'), 'w') as file:\n",
    "    json.dump(api_token, file)\n",
    "#!chmod 600 /home/jupyter/.kaggle/kaggle.json"
   ]
  },
  {
   "cell_type": "markdown",
   "metadata": {
    "id": "ndowbtBwtpKy"
   },
   "source": [
    "## Data acquisition"
   ]
  },
  {
   "cell_type": "code",
   "execution_count": 6,
   "metadata": {
    "colab": {
     "base_uri": "https://localhost:8080/"
    },
    "id": "NRMqxteFcraG",
    "outputId": "19f05761-ade2-4a5e-9299-08d40e58175e"
   },
   "outputs": [
    {
     "name": "stdout",
     "output_type": "stream",
     "text": [
      "Warning: Your Kaggle API key is readable by other users on this system! To fix this, you can run 'chmod 600 /home/jupyter/.kaggle/kaggle.json'\n",
      "Downloading imdb-dataset.zip to /home/jupyter\n",
      " 98%|██████████████████████████████████████▎| 1.42G/1.44G [00:09<00:00, 157MB/s]\n",
      "100%|███████████████████████████████████████| 1.44G/1.44G [00:09<00:00, 162MB/s]\n"
     ]
    }
   ],
   "source": [
    "!kaggle datasets download -d ashirwadsangwan/imdb-dataset"
   ]
  },
  {
   "cell_type": "code",
   "execution_count": 7,
   "metadata": {
    "id": "NKTHtafylujR"
   },
   "outputs": [],
   "source": [
    "with zipfile.ZipFile(\"imdb-dataset.zip\", 'r') as zip_ref:\n",
    "    zip_ref.extractall(content_dir)"
   ]
  },
  {
   "cell_type": "code",
   "execution_count": 8,
   "metadata": {},
   "outputs": [],
   "source": [
    "for filename in os.listdir(content_dir):\n",
    "    file_path = os.path.join(content_dir, filename)\n",
    "    try:\n",
    "        if os.path.isfile(file_path):\n",
    "            os.unlink(file_path)\n",
    "    except Exception as e:\n",
    "        print('Failed to delete %s. Reason: %s' % (file_path, e))"
   ]
  },
  {
   "cell_type": "code",
   "execution_count": 9,
   "metadata": {
    "id": "2HM4i7aAbIvF"
   },
   "outputs": [],
   "source": [
    "movie_person_useful_cols = ['tconst', 'nconst', 'category']\n",
    "subset_mp = None\n",
    "movie_person = pd.read_csv(os.path.join(content_dir, \"title.principals.tsv/title.principals.tsv\"), sep=\"\\t\", usecols=movie_person_useful_cols,\n",
    "                          nrows=subset_mp)"
   ]
  },
  {
   "cell_type": "code",
   "execution_count": 10,
   "metadata": {
    "id": "p1trEXuRnoG8"
   },
   "outputs": [],
   "source": [
    "person_useful_cols = ['nconst', 'primaryName', 'primaryProfession']\n",
    "subset_p = None\n",
    "person = pd.read_csv(os.path.join(content_dir, \"name.basics.tsv/name.basics.tsv\"), sep=\"\\t\", usecols=person_useful_cols,\n",
    "                    nrows=subset_p)"
   ]
  },
  {
   "cell_type": "markdown",
   "metadata": {
    "id": "oGfaKripIEnf"
   },
   "source": [
    "### Filter"
   ]
  },
  {
   "cell_type": "code",
   "execution_count": 11,
   "metadata": {
    "colab": {
     "base_uri": "https://localhost:8080/"
    },
    "id": "9arTbfL6p4Xh",
    "outputId": "d96d32c2-2fa7-41e1-e883-352ea241be39"
   },
   "outputs": [
    {
     "name": "stderr",
     "output_type": "stream",
     "text": [
      "/opt/conda/lib/python3.7/site-packages/ipykernel_launcher.py:2: UserWarning: This pattern has match groups. To actually get the groups, use str.extract.\n",
      "  \n"
     ]
    }
   ],
   "source": [
    "# Only actor / actress\n",
    "movie_person = movie_person[movie_person['category'].str.contains('(act).*')]"
   ]
  },
  {
   "cell_type": "markdown",
   "metadata": {
    "id": "yOnpDhFHIHtU"
   },
   "source": [
    "### Tables match"
   ]
  },
  {
   "cell_type": "code",
   "execution_count": 12,
   "metadata": {},
   "outputs": [],
   "source": [
    "# Match actors in movies with persons database\n",
    "person = person.merge(movie_person, how='inner', on='nconst')\\\n",
    "            .drop(columns=['tconst', 'category'])\\\n",
    "            .drop_duplicates('nconst')\\\n",
    "            .drop_duplicates('primaryName')\\"
   ]
  },
  {
   "cell_type": "code",
   "execution_count": 13,
   "metadata": {},
   "outputs": [],
   "source": [
    "movie_person = movie_person.merge(person, how='inner', on='nconst')\\\n",
    "            .drop(columns=['primaryName','primaryProfession'])"
   ]
  },
  {
   "cell_type": "markdown",
   "metadata": {
    "id": "H3PIzH5KBUVv"
   },
   "source": [
    "### Re-indexing and resize"
   ]
  },
  {
   "cell_type": "code",
   "execution_count": 14,
   "metadata": {
    "colab": {
     "base_uri": "https://localhost:8080/",
     "height": 423
    },
    "id": "RP8VS7QQrhSE",
    "outputId": "08bda01e-64a6-44d5-ee92-9f91ebf1ead6"
   },
   "outputs": [
    {
     "data": {
      "text/html": [
       "<div>\n",
       "<style scoped>\n",
       "    .dataframe tbody tr th:only-of-type {\n",
       "        vertical-align: middle;\n",
       "    }\n",
       "\n",
       "    .dataframe tbody tr th {\n",
       "        vertical-align: top;\n",
       "    }\n",
       "\n",
       "    .dataframe thead th {\n",
       "        text-align: right;\n",
       "    }\n",
       "</style>\n",
       "<table border=\"1\" class=\"dataframe\">\n",
       "  <thead>\n",
       "    <tr style=\"text-align: right;\">\n",
       "      <th></th>\n",
       "      <th>nconst</th>\n",
       "      <th>primaryName</th>\n",
       "      <th>primaryProfession</th>\n",
       "    </tr>\n",
       "  </thead>\n",
       "  <tbody>\n",
       "    <tr>\n",
       "      <th>0</th>\n",
       "      <td>nm0000001</td>\n",
       "      <td>Fred Astaire</td>\n",
       "      <td>soundtrack,actor,miscellaneous</td>\n",
       "    </tr>\n",
       "    <tr>\n",
       "      <th>1</th>\n",
       "      <td>nm0000002</td>\n",
       "      <td>Lauren Bacall</td>\n",
       "      <td>actress,soundtrack</td>\n",
       "    </tr>\n",
       "    <tr>\n",
       "      <th>2</th>\n",
       "      <td>nm0000003</td>\n",
       "      <td>Brigitte Bardot</td>\n",
       "      <td>actress,soundtrack,producer</td>\n",
       "    </tr>\n",
       "    <tr>\n",
       "      <th>3</th>\n",
       "      <td>nm0000004</td>\n",
       "      <td>John Belushi</td>\n",
       "      <td>actor,writer,soundtrack</td>\n",
       "    </tr>\n",
       "    <tr>\n",
       "      <th>4</th>\n",
       "      <td>nm0000005</td>\n",
       "      <td>Ingmar Bergman</td>\n",
       "      <td>writer,director,actor</td>\n",
       "    </tr>\n",
       "    <tr>\n",
       "      <th>...</th>\n",
       "      <td>...</td>\n",
       "      <td>...</td>\n",
       "      <td>...</td>\n",
       "    </tr>\n",
       "    <tr>\n",
       "      <th>1675599</th>\n",
       "      <td>nm9993697</td>\n",
       "      <td>Zakariya Ganim</td>\n",
       "      <td>actor</td>\n",
       "    </tr>\n",
       "    <tr>\n",
       "      <th>1675600</th>\n",
       "      <td>nm9993698</td>\n",
       "      <td>Sebi John</td>\n",
       "      <td>actor</td>\n",
       "    </tr>\n",
       "    <tr>\n",
       "      <th>1675601</th>\n",
       "      <td>nm9993699</td>\n",
       "      <td>Dani Jacob</td>\n",
       "      <td>actor</td>\n",
       "    </tr>\n",
       "    <tr>\n",
       "      <th>1675602</th>\n",
       "      <td>nm9993700</td>\n",
       "      <td>Sexy Angel</td>\n",
       "      <td>actress</td>\n",
       "    </tr>\n",
       "    <tr>\n",
       "      <th>1675603</th>\n",
       "      <td>nm9993701</td>\n",
       "      <td>Sanjai Kuriakose</td>\n",
       "      <td>actor</td>\n",
       "    </tr>\n",
       "  </tbody>\n",
       "</table>\n",
       "<p>1675604 rows × 3 columns</p>\n",
       "</div>"
      ],
      "text/plain": [
       "            nconst       primaryName               primaryProfession\n",
       "0        nm0000001      Fred Astaire  soundtrack,actor,miscellaneous\n",
       "1        nm0000002     Lauren Bacall              actress,soundtrack\n",
       "2        nm0000003   Brigitte Bardot     actress,soundtrack,producer\n",
       "3        nm0000004      John Belushi         actor,writer,soundtrack\n",
       "4        nm0000005    Ingmar Bergman           writer,director,actor\n",
       "...            ...               ...                             ...\n",
       "1675599  nm9993697    Zakariya Ganim                           actor\n",
       "1675600  nm9993698         Sebi John                           actor\n",
       "1675601  nm9993699        Dani Jacob                           actor\n",
       "1675602  nm9993700        Sexy Angel                         actress\n",
       "1675603  nm9993701  Sanjai Kuriakose                           actor\n",
       "\n",
       "[1675604 rows x 3 columns]"
      ]
     },
     "execution_count": 14,
     "metadata": {},
     "output_type": "execute_result"
    }
   ],
   "source": [
    "person.reset_index(drop=True, inplace=True)\n",
    "\n",
    "actors = person.index\n",
    "\n",
    "# Useful dictionaries \n",
    "n_person = dict(zip(person.index, person['nconst']))\n",
    "person_n = dict(zip(person['nconst'], person.index))\n",
    "\n",
    "person"
   ]
  },
  {
   "cell_type": "code",
   "execution_count": 15,
   "metadata": {
    "colab": {
     "base_uri": "https://localhost:8080/",
     "height": 423
    },
    "id": "xsJ-qCwPzOuA",
    "outputId": "11c84d78-932d-4e92-c2ea-61820ad9582c"
   },
   "outputs": [
    {
     "data": {
      "text/html": [
       "<div>\n",
       "<style scoped>\n",
       "    .dataframe tbody tr th:only-of-type {\n",
       "        vertical-align: middle;\n",
       "    }\n",
       "\n",
       "    .dataframe tbody tr th {\n",
       "        vertical-align: top;\n",
       "    }\n",
       "\n",
       "    .dataframe thead th {\n",
       "        text-align: right;\n",
       "    }\n",
       "</style>\n",
       "<table border=\"1\" class=\"dataframe\">\n",
       "  <thead>\n",
       "    <tr style=\"text-align: right;\">\n",
       "      <th></th>\n",
       "      <th>tconst</th>\n",
       "      <th>nconst</th>\n",
       "      <th>category</th>\n",
       "    </tr>\n",
       "  </thead>\n",
       "  <tbody>\n",
       "    <tr>\n",
       "      <th>0</th>\n",
       "      <td>tt0000005</td>\n",
       "      <td>nm0443482</td>\n",
       "      <td>actor</td>\n",
       "    </tr>\n",
       "    <tr>\n",
       "      <th>1</th>\n",
       "      <td>tt0000005</td>\n",
       "      <td>nm0653042</td>\n",
       "      <td>actor</td>\n",
       "    </tr>\n",
       "    <tr>\n",
       "      <th>2</th>\n",
       "      <td>tt0000007</td>\n",
       "      <td>nm0179163</td>\n",
       "      <td>actor</td>\n",
       "    </tr>\n",
       "    <tr>\n",
       "      <th>3</th>\n",
       "      <td>tt0003116</td>\n",
       "      <td>nm0179163</td>\n",
       "      <td>actor</td>\n",
       "    </tr>\n",
       "    <tr>\n",
       "      <th>4</th>\n",
       "      <td>tt0003730</td>\n",
       "      <td>nm0179163</td>\n",
       "      <td>actor</td>\n",
       "    </tr>\n",
       "    <tr>\n",
       "      <th>...</th>\n",
       "      <td>...</td>\n",
       "      <td>...</td>\n",
       "      <td>...</td>\n",
       "    </tr>\n",
       "    <tr>\n",
       "      <th>14059979</th>\n",
       "      <td>tt9916756</td>\n",
       "      <td>nm10781824</td>\n",
       "      <td>actress</td>\n",
       "    </tr>\n",
       "    <tr>\n",
       "      <th>14059980</th>\n",
       "      <td>tt9916764</td>\n",
       "      <td>nm10538641</td>\n",
       "      <td>actor</td>\n",
       "    </tr>\n",
       "    <tr>\n",
       "      <th>14059981</th>\n",
       "      <td>tt9916856</td>\n",
       "      <td>nm10538650</td>\n",
       "      <td>actress</td>\n",
       "    </tr>\n",
       "    <tr>\n",
       "      <th>14059982</th>\n",
       "      <td>tt9916856</td>\n",
       "      <td>nm10538646</td>\n",
       "      <td>actor</td>\n",
       "    </tr>\n",
       "    <tr>\n",
       "      <th>14059983</th>\n",
       "      <td>tt9916856</td>\n",
       "      <td>nm10538647</td>\n",
       "      <td>actress</td>\n",
       "    </tr>\n",
       "  </tbody>\n",
       "</table>\n",
       "<p>14059984 rows × 3 columns</p>\n",
       "</div>"
      ],
      "text/plain": [
       "             tconst      nconst category\n",
       "0         tt0000005   nm0443482    actor\n",
       "1         tt0000005   nm0653042    actor\n",
       "2         tt0000007   nm0179163    actor\n",
       "3         tt0003116   nm0179163    actor\n",
       "4         tt0003730   nm0179163    actor\n",
       "...             ...         ...      ...\n",
       "14059979  tt9916756  nm10781824  actress\n",
       "14059980  tt9916764  nm10538641    actor\n",
       "14059981  tt9916856  nm10538650  actress\n",
       "14059982  tt9916856  nm10538646    actor\n",
       "14059983  tt9916856  nm10538647  actress\n",
       "\n",
       "[14059984 rows x 3 columns]"
      ]
     },
     "execution_count": 15,
     "metadata": {},
     "output_type": "execute_result"
    }
   ],
   "source": [
    "movie_person.reset_index(drop=True, inplace=True)\n",
    "movie_person"
   ]
  },
  {
   "cell_type": "markdown",
   "metadata": {
    "id": "6UDT9mafmh9P"
   },
   "source": [
    "### Storage"
   ]
  },
  {
   "cell_type": "code",
   "execution_count": 16,
   "metadata": {
    "id": "s1BiQGeEmk8f"
   },
   "outputs": [],
   "source": [
    "with open(os.path.join(variables_dir, 'person.pkl'), 'wb') as outp:\n",
    "    pickle.dump(person, outp)"
   ]
  },
  {
   "cell_type": "code",
   "execution_count": 17,
   "metadata": {},
   "outputs": [],
   "source": [
    "with open(os.path.join(variables_dir, 'actors.pkl'), 'wb') as outp:\n",
    "    pickle.dump(actors, outp)"
   ]
  },
  {
   "cell_type": "code",
   "execution_count": 18,
   "metadata": {
    "id": "Bug2jj9anRTO"
   },
   "outputs": [],
   "source": [
    "with open(os.path.join(variables_dir, 'movie_person.pkl'), 'wb') as outp:\n",
    "    pickle.dump(movie_person, outp)"
   ]
  },
  {
   "cell_type": "code",
   "execution_count": 19,
   "metadata": {},
   "outputs": [],
   "source": [
    "with open(os.path.join(variables_dir, 'person_n.pkl'), 'wb') as outp:\n",
    "    pickle.dump(person_n, outp)"
   ]
  },
  {
   "cell_type": "code",
   "execution_count": 20,
   "metadata": {},
   "outputs": [],
   "source": [
    "with open(os.path.join(variables_dir, 'n_person.pkl'), 'wb') as outp:\n",
    "    pickle.dump(n_person, outp)"
   ]
  },
  {
   "cell_type": "markdown",
   "metadata": {
    "id": "JAbWFtpMyGN8"
   },
   "source": [
    "## Actor Graph "
   ]
  },
  {
   "cell_type": "markdown",
   "metadata": {
    "id": "IYLxGCP-nimS"
   },
   "source": [
    "### Links creation ( !! heavy RAM usage ~ 15 GB !!)"
   ]
  },
  {
   "cell_type": "code",
   "execution_count": 21,
   "metadata": {
    "id": "ahNWjT1hAtZg"
   },
   "outputs": [],
   "source": [
    "def get_links(S):\n",
    "  links = list()\n",
    "  for i1, val1 in S.iteritems():\n",
    "    for i2, val2 in S.iteritems():\n",
    "      if i1 < i2:\n",
    "        links.append( (person_n[val1], person_n[val2]) )\n",
    "        links.append( (person_n[val2], person_n[val1]) )\n",
    "  \n",
    "  return links"
   ]
  },
  {
   "cell_type": "code",
   "execution_count": 22,
   "metadata": {
    "id": "4o4cy7pXiuQ1"
   },
   "outputs": [],
   "source": [
    "# Group by title\n",
    "grouped_mp = movie_person[['tconst', 'nconst']].groupby('tconst')"
   ]
  },
  {
   "cell_type": "code",
   "execution_count": 23,
   "metadata": {
    "colab": {
     "base_uri": "https://localhost:8080/"
    },
    "id": "q1Tgby-7l9Fx",
    "outputId": "fdb18eec-3d45-416f-9f28-d9d8c82accd8"
   },
   "outputs": [
    {
     "data": {
      "text/plain": [
       "207"
      ]
     },
     "execution_count": 23,
     "metadata": {},
     "output_type": "execute_result"
    }
   ],
   "source": [
    "# Before links creation: RAM wipe\n",
    "del person\n",
    "del movie_person\n",
    "del n_person\n",
    "gc.collect()"
   ]
  },
  {
   "cell_type": "code",
   "execution_count": 24,
   "metadata": {
    "id": "MzuUL4dl8_Rn"
   },
   "outputs": [],
   "source": [
    "links_series = grouped_mp.agg(get_links)['nconst']"
   ]
  },
  {
   "cell_type": "code",
   "execution_count": 25,
   "metadata": {},
   "outputs": [],
   "source": [
    "# Flat and unique list\n",
    "\n",
    "links = [tup for i in range(len(links_series)) for tup in links_series[i]]\n",
    "links = list(set(links))"
   ]
  },
  {
   "cell_type": "code",
   "execution_count": 26,
   "metadata": {
    "id": "8eIAupNh6fPm"
   },
   "outputs": [],
   "source": [
    "del links_series\n",
    "with open(os.path.join(variables_dir, 'links.pkl'), 'wb') as outp:\n",
    "    pickle.dump(links, outp)"
   ]
  },
  {
   "cell_type": "markdown",
   "metadata": {},
   "source": [
    "### Graph"
   ]
  },
  {
   "cell_type": "code",
   "execution_count": 27,
   "metadata": {
    "id": "FTDJM04pbiZI"
   },
   "outputs": [],
   "source": [
    "def get_graph(actors, links):\n",
    "    g = nx.DiGraph()\n",
    "\n",
    "    for p in actors:\n",
    "        g.add_node(p)\n",
    "\n",
    "    for (a, b) in links:\n",
    "        g.add_edge(actors[a], actors[b])\n",
    "\n",
    "    return g\n",
    "\n",
    "def get_connection_matrix(actors, links):\n",
    "    incidency = {}\n",
    "    for u in range(len(actors)):\n",
    "        incidency[u] = []\n",
    "    \n",
    "    for (a, b) in links:\n",
    "        incidency[a].append(b)\n",
    "    \n",
    "    connection_matrix = []\n",
    "    for a in incidency:\n",
    "       for b in incidency[a]:\n",
    "            connection_matrix.append((b, a, 1./len(incidency[a])))\n",
    "            \n",
    "    return connection_matrix"
   ]
  },
  {
   "cell_type": "code",
   "execution_count": 28,
   "metadata": {
    "tags": []
   },
   "outputs": [],
   "source": [
    "connection_matrix = get_connection_matrix(actors, links)"
   ]
  },
  {
   "cell_type": "code",
   "execution_count": 29,
   "metadata": {},
   "outputs": [],
   "source": [
    "with open(os.path.join(variables_dir, 'connection_matrix.pkl'), 'wb') as outp:\n",
    "    pickle.dump(connection_matrix, outp)"
   ]
  }
 ],
 "metadata": {
  "colab": {
   "collapsed_sections": [],
   "name": "PageRank_IMDB.ipynb",
   "provenance": []
  },
  "environment": {
   "kernel": "python3",
   "name": "common-cpu.m82",
   "type": "gcloud",
   "uri": "gcr.io/deeplearning-platform-release/base-cpu:m82"
  },
  "kernelspec": {
   "display_name": "Python 3",
   "language": "python",
   "name": "python3"
  },
  "language_info": {
   "codemirror_mode": {
    "name": "ipython",
    "version": 3
   },
   "file_extension": ".py",
   "mimetype": "text/x-python",
   "name": "python",
   "nbconvert_exporter": "python",
   "pygments_lexer": "ipython3",
   "version": "3.7.10"
  }
 },
 "nbformat": 4,
 "nbformat_minor": 4
}
