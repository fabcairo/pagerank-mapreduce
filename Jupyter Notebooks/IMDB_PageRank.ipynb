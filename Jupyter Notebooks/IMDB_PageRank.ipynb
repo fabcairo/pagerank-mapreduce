{
 "cells": [
  {
   "cell_type": "markdown",
   "id": "629360b3-734b-4073-8552-2fe767e60dec",
   "metadata": {
    "id": "NhFeJDbnspRa",
    "tags": []
   },
   "source": [
    "## PySpark configuration"
   ]
  },
  {
   "cell_type": "code",
   "execution_count": 1,
   "id": "4f2dd5a3-65ea-4640-b6f8-8a09da6b4c56",
   "metadata": {},
   "outputs": [],
   "source": [
    "import os\n",
    "\n",
    "root_dir = os.path.dirname(os.path.abspath('PageRank_IMDB.jpynb'))\n",
    "\n",
    "content_dir = os.path.join(root_dir, \"content/\")\n",
    "if not os.path.isdir(content_dir):\n",
    "    os.mkdir(content_dir)\n",
    "    \n",
    "kaggle_dir = os.path.join(root_dir, \".kaggle/\")\n",
    "if not os.path.isdir(kaggle_dir):\n",
    "    os.mkdir(kaggle_dir)    \n",
    "    \n",
    "variables_dir = os.path.join(content_dir, \"variables/\")\n",
    "if not os.path.isdir(variables_dir):\n",
    "    os.mkdir(variables_dir)  "
   ]
  },
  {
   "cell_type": "code",
   "execution_count": 2,
   "id": "5f199e55-31fe-4a2e-b700-345d8a2deccd",
   "metadata": {},
   "outputs": [],
   "source": [
    "# DO NOT RUN ON DEBIAN VM, JDK IS PREINSTALLED\n",
    "!sudo apt-get install openjdk-11-jdk-headless -qq > /dev/null"
   ]
  },
  {
   "cell_type": "code",
   "execution_count": 3,
   "id": "56246303-59cb-400d-81be-9254e5422ade",
   "metadata": {
    "id": "DX9lNJH4tFQS"
   },
   "outputs": [],
   "source": [
    "!wget -q https://archive.apache.org/dist/spark/spark-3.2.0/spark-3.2.0-bin-hadoop3.2.tgz  #https://archive.apache.org/dist/spark/spark-2.4.5/spark-2.4.5-bin-hadoop2.7.tgz #http://www-eu.apache.org/dist/spark/spark-2.4.5/spark-2.4.5-bin-hadoop2.7.tgz\n",
    "!tar xf spark-3.2.0-bin-hadoop3.2.tgz\n",
    "!pip install -q findspark"
   ]
  },
  {
   "cell_type": "code",
   "execution_count": 4,
   "id": "d819e364-2b52-437d-a4a8-416ce92dea34",
   "metadata": {},
   "outputs": [
    {
     "name": "stdout",
     "output_type": "stream",
     "text": [
      "Requirement already satisfied: py4j in /opt/conda/lib/python3.7/site-packages (0.10.9.2)\n"
     ]
    }
   ],
   "source": [
    "!pip install py4j"
   ]
  },
  {
   "cell_type": "code",
   "execution_count": 5,
   "id": "ae76100c-633d-4f57-8655-130c02d106e4",
   "metadata": {
    "id": "6Utm4R6ztiPJ",
    "tags": []
   },
   "outputs": [],
   "source": [
    "import gc\n",
    "import json\n",
    "import zipfile\n",
    "import pickle\n",
    "import pandas as pd\n",
    "import numpy as np\n",
    "import networkx as nx\n",
    "import matplotlib.pyplot as plt\n",
    "import sys\n",
    "\n",
    "os.environ[\"JAVA_HOME\"] = \"/usr/lib/jvm/java-11-openjdk-amd64\"\n",
    "os.environ[\"SPARK_HOME\"] = os.path.join(root_dir, \"spark-3.2.0-bin-hadoop3.2\")\n",
    "\n",
    "import findspark\n",
    "findspark.init(\"spark-3.2.0-bin-hadoop3.2\")# SPARK_HOME\n",
    "from pyspark.sql import SparkSession\n",
    "\n",
    "def getsize(obj):\n",
    "    print('{:.2f} MB'.format(sys.getsizeof(obj)/(2**20)))"
   ]
  },
  {
   "cell_type": "code",
   "execution_count": 6,
   "id": "96175059-ed35-44c7-8e84-83a2524ae025",
   "metadata": {},
   "outputs": [],
   "source": [
    "#!pip install pyspark"
   ]
  },
  {
   "cell_type": "code",
   "execution_count": 7,
   "id": "a5c8b3ff-4586-449b-a467-31d9ce181fcb",
   "metadata": {},
   "outputs": [],
   "source": [
    "#from pyspark import SparkContext\n",
    "#from pyspark.sql import SparkSession"
   ]
  },
  {
   "cell_type": "code",
   "execution_count": 8,
   "id": "e8f3150e-bc92-4048-b047-46da06356de5",
   "metadata": {},
   "outputs": [],
   "source": [
    "#sc = SparkContext(\"local\", \"amd\")"
   ]
  },
  {
   "cell_type": "code",
   "execution_count": 10,
   "id": "6d930d96-17c1-4eab-8dbd-c96ea5af6b21",
   "metadata": {
    "id": "JfeOitjJShYE"
   },
   "outputs": [],
   "source": [
    "spark = SparkSession.builder.master(\"local[*]\").config(\"spark.driver.memory\", \"30g\").getOrCreate()\n",
    "sc = spark.sparkContext"
   ]
  },
  {
   "cell_type": "markdown",
   "id": "caabd1bf-6f63-4c8c-9f9d-81f4546b7fa6",
   "metadata": {},
   "source": [
    "## Load variables"
   ]
  },
  {
   "cell_type": "code",
   "execution_count": 11,
   "id": "55502eb6-589e-4e01-948f-53c7a87d58f8",
   "metadata": {},
   "outputs": [],
   "source": [
    "with open(os.path.join(variables_dir, 'actors.pkl'), 'rb') as inpt:\n",
    "    actors = pickle.load(inpt)"
   ]
  },
  {
   "cell_type": "code",
   "execution_count": 12,
   "id": "697b23d4-8365-4295-833e-7f83941287ca",
   "metadata": {},
   "outputs": [],
   "source": [
    "with open(os.path.join(variables_dir, 'connection_matrix.pkl'), 'rb') as inpt:\n",
    "    connection_matrix = pickle.load(inpt)"
   ]
  },
  {
   "cell_type": "markdown",
   "id": "20d707d4-94bc-4a41-9719-712e96063ef3",
   "metadata": {},
   "source": [
    "## PageRank"
   ]
  },
  {
   "cell_type": "code",
   "execution_count": 13,
   "id": "fe97faa8-a651-4ccd-a4cf-3938cb351aad",
   "metadata": {},
   "outputs": [],
   "source": [
    "def l2distance(v, q):    \n",
    "    if len(v) != len(q):\n",
    "        raise ValueError('Cannot compute the distance'\n",
    "                         ' of two vectors of different size')\n",
    "    return np.sqrt(sum([(q_el - v_el)**2 for v_el, q_el in zip(v, q)]))"
   ]
  },
  {
   "cell_type": "code",
   "execution_count": 14,
   "id": "c034fdfa-4cef-4d5f-a453-769dd1494bdf",
   "metadata": {},
   "outputs": [],
   "source": [
    "def get_page_rank(n, connection_matrix, beta, \n",
    "                  checkpoint_pr = None, verbose=False, tolerance=10e-5, max_iterations=100):\n",
    "    \n",
    "    links_RDD = sc.parallelize(connection_matrix, numSlices=1000).cache()\n",
    "    telep = (1.-beta)/n\n",
    "    \n",
    "    if(verbose):\n",
    "        print('RDD created')\n",
    "    \n",
    "    if checkpoint_pr is None:\n",
    "        page_rank = np.ones(n)/n\n",
    "    else:\n",
    "        page_rank = checkpoint_pr\n",
    "    \n",
    "    old_page_rank = np.ones(n)\n",
    "    \n",
    "    if(verbose):\n",
    "        print('Start: ', page_rank, '\\n ----------------------- \\n')\n",
    "    \n",
    "    iteration = 0\n",
    "    while l2distance(old_page_rank, page_rank) >= tolerance and \\\n",
    "          iteration < max_iterations:\n",
    "        old_page_rank = page_rank\n",
    "        page_rank_values = (links_RDD\n",
    "                            .map(lambda t: (t[0], beta*t[2]*page_rank[t[1]]))\n",
    "                            .reduceByKey(lambda a, b: a+b)\n",
    "                            .map(lambda x: (x[0], x[1]+telep))\n",
    "                            .sortByKey()\n",
    "                            .collect()\n",
    "                           )\n",
    "                            \n",
    "        if(verbose):\n",
    "            print(f'Map and reduce step {iteration+1} completed.')\n",
    "            #print(f'Size of page_rank_values = {sys.getsizeof(page_rank_values)/1024} MiB')\n",
    "        \n",
    "        out_nodes = [n for n, r in page_rank_values]             \n",
    "        if len(out_nodes) < n:\n",
    "            missing_nodes = list()\n",
    "            c = 0\n",
    "            for i in out_nodes:\n",
    "                while i > c:\n",
    "                    missing_nodes.append(c)\n",
    "                    c = c+1\n",
    "                c = c+1\n",
    "            if c > i:\n",
    "                missing_nodes = missing_nodes + list(range(c,n))\n",
    "            page_rank_values = page_rank_values + list(zip(missing_nodes, [telep]*len(missing_nodes)))\n",
    "        \n",
    "        page_rank = np.array([c for (i, c) in sorted(page_rank_values, key = lambda x: x[0])])\n",
    "            \n",
    "        if verbose:\n",
    "            print(page_rank)\n",
    "\n",
    "        with open(os.path.join(variables_dir, 'page_rank.pkl'), 'wb') as outp:\n",
    "            pickle.dump(page_rank, outp)\n",
    "            \n",
    "        if verbose:\n",
    "            print(\"Written: \", os.path.join(variables_dir, 'page_rank.pkl'))  \n",
    "        \n",
    "        iteration += 1\n",
    "        \n",
    "    print('{} iterations'.format(iteration))\n",
    "    \n",
    "    return page_rank"
   ]
  },
  {
   "cell_type": "code",
   "execution_count": 17,
   "id": "7d562ea6-b3cb-417b-b5e6-009647a36ecc",
   "metadata": {},
   "outputs": [],
   "source": [
    "with open(os.path.join(variables_dir, 'page_rank.pkl'), 'rb') as inpt:\n",
    "    page_rank = pickle.load(inpt)"
   ]
  },
  {
   "cell_type": "code",
   "execution_count": 18,
   "id": "efd1db9a-2f83-4d47-8598-8c4d0f9315f7",
   "metadata": {
    "tags": []
   },
   "outputs": [
    {
     "name": "stdout",
     "output_type": "stream",
     "text": [
      "RDD created\n",
      "Start:  [2.63615019e-06 3.96164657e-06 2.28161628e-06 ... 4.58057492e-07\n",
      " 1.39410144e-07 4.58057492e-07] \n",
      " ----------------------- \n",
      "\n"
     ]
    },
    {
     "name": "stderr",
     "output_type": "stream",
     "text": [
      "                                                                                \r"
     ]
    },
    {
     "name": "stdout",
     "output_type": "stream",
     "text": [
      "Map and reduce step 1 completed.\n",
      "[2.63615201e-06 3.96164753e-06 2.28161721e-06 ... 4.58057413e-07\n",
      " 1.39410161e-07 4.58057413e-07]\n",
      "Written:  /home/jupyter/content/variables/page_rank.pkl\n"
     ]
    },
    {
     "name": "stderr",
     "output_type": "stream",
     "text": [
      "                                                                                \r"
     ]
    },
    {
     "name": "stdout",
     "output_type": "stream",
     "text": [
      "Map and reduce step 2 completed.\n",
      "[2.63615358e-06 3.96164835e-06 2.28161802e-06 ... 4.58057347e-07\n",
      " 1.39410177e-07 4.58057347e-07]\n",
      "Written:  /home/jupyter/content/variables/page_rank.pkl\n"
     ]
    },
    {
     "name": "stderr",
     "output_type": "stream",
     "text": [
      "                                                                                \r"
     ]
    },
    {
     "name": "stdout",
     "output_type": "stream",
     "text": [
      "Map and reduce step 3 completed.\n",
      "[2.63615493e-06 3.96164904e-06 2.28161873e-06 ... 4.58057292e-07\n",
      " 1.39410192e-07 4.58057292e-07]\n",
      "Written:  /home/jupyter/content/variables/page_rank.pkl\n"
     ]
    },
    {
     "name": "stderr",
     "output_type": "stream",
     "text": [
      "                                                                                \r"
     ]
    },
    {
     "name": "stdout",
     "output_type": "stream",
     "text": [
      "Map and reduce step 4 completed.\n",
      "[2.63615611e-06 3.96164963e-06 2.28161935e-06 ... 4.58057246e-07\n",
      " 1.39410205e-07 4.58057246e-07]\n",
      "Written:  /home/jupyter/content/variables/page_rank.pkl\n"
     ]
    },
    {
     "name": "stderr",
     "output_type": "stream",
     "text": [
      "                                                                                \r"
     ]
    },
    {
     "name": "stdout",
     "output_type": "stream",
     "text": [
      "Map and reduce step 5 completed.\n",
      "[2.63615713e-06 3.96165013e-06 2.28161989e-06 ... 4.58057209e-07\n",
      " 1.39410218e-07 4.58057209e-07]\n",
      "Written:  /home/jupyter/content/variables/page_rank.pkl\n"
     ]
    },
    {
     "name": "stderr",
     "output_type": "stream",
     "text": [
      "                                                                                \r"
     ]
    },
    {
     "name": "stdout",
     "output_type": "stream",
     "text": [
      "Map and reduce step 6 completed.\n",
      "[2.63615801e-06 3.96165055e-06 2.28162036e-06 ... 4.58057178e-07\n",
      " 1.39410229e-07 4.58057178e-07]\n",
      "Written:  /home/jupyter/content/variables/page_rank.pkl\n"
     ]
    },
    {
     "name": "stderr",
     "output_type": "stream",
     "text": [
      "                                                                                \r"
     ]
    },
    {
     "name": "stdout",
     "output_type": "stream",
     "text": [
      "Map and reduce step 7 completed.\n",
      "[2.63615877e-06 3.96165090e-06 2.28162077e-06 ... 4.58057152e-07\n",
      " 1.39410239e-07 4.58057152e-07]\n",
      "Written:  /home/jupyter/content/variables/page_rank.pkl\n"
     ]
    },
    {
     "name": "stderr",
     "output_type": "stream",
     "text": [
      "                                                                                \r"
     ]
    },
    {
     "name": "stdout",
     "output_type": "stream",
     "text": [
      "Map and reduce step 8 completed.\n",
      "[2.63615943e-06 3.96165120e-06 2.28162113e-06 ... 4.58057131e-07\n",
      " 1.39410248e-07 4.58057131e-07]\n",
      "Written:  /home/jupyter/content/variables/page_rank.pkl\n"
     ]
    },
    {
     "name": "stderr",
     "output_type": "stream",
     "text": [
      "                                                                                \r"
     ]
    },
    {
     "name": "stdout",
     "output_type": "stream",
     "text": [
      "Map and reduce step 9 completed.\n",
      "[2.63615999e-06 3.96165145e-06 2.28162144e-06 ... 4.58057114e-07\n",
      " 1.39410257e-07 4.58057114e-07]\n",
      "Written:  /home/jupyter/content/variables/page_rank.pkl\n"
     ]
    },
    {
     "name": "stderr",
     "output_type": "stream",
     "text": [
      "                                                                                \r"
     ]
    },
    {
     "name": "stdout",
     "output_type": "stream",
     "text": [
      "Map and reduce step 10 completed.\n",
      "[2.63616049e-06 3.96165166e-06 2.28162171e-06 ... 4.58057099e-07\n",
      " 1.39410264e-07 4.58057099e-07]\n",
      "Written:  /home/jupyter/content/variables/page_rank.pkl\n"
     ]
    },
    {
     "name": "stderr",
     "output_type": "stream",
     "text": [
      "                                                                                \r"
     ]
    },
    {
     "name": "stdout",
     "output_type": "stream",
     "text": [
      "Map and reduce step 11 completed.\n",
      "[2.63616091e-06 3.96165183e-06 2.28162195e-06 ... 4.58057088e-07\n",
      " 1.39410271e-07 4.58057088e-07]\n",
      "Written:  /home/jupyter/content/variables/page_rank.pkl\n"
     ]
    },
    {
     "name": "stderr",
     "output_type": "stream",
     "text": [
      "                                                                                \r"
     ]
    },
    {
     "name": "stdout",
     "output_type": "stream",
     "text": [
      "Map and reduce step 12 completed.\n",
      "[2.63616128e-06 3.96165198e-06 2.28162216e-06 ... 4.58057078e-07\n",
      " 1.39410278e-07 4.58057078e-07]\n",
      "Written:  /home/jupyter/content/variables/page_rank.pkl\n"
     ]
    },
    {
     "name": "stderr",
     "output_type": "stream",
     "text": [
      "                                                                                \r"
     ]
    },
    {
     "name": "stdout",
     "output_type": "stream",
     "text": [
      "Map and reduce step 13 completed.\n",
      "[2.63616160e-06 3.96165210e-06 2.28162234e-06 ... 4.58057070e-07\n",
      " 1.39410283e-07 4.58057070e-07]\n",
      "Written:  /home/jupyter/content/variables/page_rank.pkl\n"
     ]
    },
    {
     "name": "stderr",
     "output_type": "stream",
     "text": [
      "                                                                                \r"
     ]
    },
    {
     "name": "stdout",
     "output_type": "stream",
     "text": [
      "Map and reduce step 14 completed.\n",
      "[2.63616187e-06 3.96165221e-06 2.28162250e-06 ... 4.58057064e-07\n",
      " 1.39410288e-07 4.58057064e-07]\n",
      "Written:  /home/jupyter/content/variables/page_rank.pkl\n"
     ]
    },
    {
     "name": "stderr",
     "output_type": "stream",
     "text": [
      "                                                                                \r"
     ]
    },
    {
     "name": "stdout",
     "output_type": "stream",
     "text": [
      "Map and reduce step 15 completed.\n",
      "[2.63616211e-06 3.96165229e-06 2.28162264e-06 ... 4.58057059e-07\n",
      " 1.39410293e-07 4.58057059e-07]\n",
      "Written:  /home/jupyter/content/variables/page_rank.pkl\n"
     ]
    },
    {
     "name": "stderr",
     "output_type": "stream",
     "text": [
      "                                                                                \r"
     ]
    },
    {
     "name": "stdout",
     "output_type": "stream",
     "text": [
      "Map and reduce step 16 completed.\n",
      "[2.63616231e-06 3.96165236e-06 2.28162276e-06 ... 4.58057055e-07\n",
      " 1.39410297e-07 4.58057055e-07]\n",
      "Written:  /home/jupyter/content/variables/page_rank.pkl\n"
     ]
    },
    {
     "name": "stderr",
     "output_type": "stream",
     "text": [
      "                                                                                \r"
     ]
    },
    {
     "name": "stdout",
     "output_type": "stream",
     "text": [
      "Map and reduce step 17 completed.\n",
      "[2.63616249e-06 3.96165242e-06 2.28162286e-06 ... 4.58057052e-07\n",
      " 1.39410301e-07 4.58057052e-07]\n",
      "Written:  /home/jupyter/content/variables/page_rank.pkl\n"
     ]
    },
    {
     "name": "stderr",
     "output_type": "stream",
     "text": [
      "                                                                                \r"
     ]
    },
    {
     "name": "stdout",
     "output_type": "stream",
     "text": [
      "Map and reduce step 18 completed.\n",
      "[2.63616264e-06 3.96165247e-06 2.28162296e-06 ... 4.58057049e-07\n",
      " 1.39410304e-07 4.58057049e-07]\n",
      "Written:  /home/jupyter/content/variables/page_rank.pkl\n"
     ]
    },
    {
     "name": "stderr",
     "output_type": "stream",
     "text": [
      "                                                                                \r"
     ]
    },
    {
     "name": "stdout",
     "output_type": "stream",
     "text": [
      "Map and reduce step 19 completed.\n",
      "[2.63616277e-06 3.96165251e-06 2.28162304e-06 ... 4.58057047e-07\n",
      " 1.39410307e-07 4.58057047e-07]\n",
      "Written:  /home/jupyter/content/variables/page_rank.pkl\n"
     ]
    },
    {
     "name": "stderr",
     "output_type": "stream",
     "text": [
      "                                                                                \r"
     ]
    },
    {
     "name": "stdout",
     "output_type": "stream",
     "text": [
      "Map and reduce step 20 completed.\n",
      "[2.63616289e-06 3.96165254e-06 2.28162311e-06 ... 4.58057046e-07\n",
      " 1.39410310e-07 4.58057046e-07]\n",
      "Written:  /home/jupyter/content/variables/page_rank.pkl\n",
      "20 iterations\n"
     ]
    }
   ],
   "source": [
    "page_rank = get_page_rank(n=len(actors), connection_matrix=connection_matrix, beta=0.9, checkpoint_pr=page_rank,\n",
    "                          verbose=True, tolerance=10e-10, max_iterations=50)"
   ]
  },
  {
   "cell_type": "code",
   "execution_count": null,
   "id": "05ac8747-2ec1-4222-9e59-e639bc33024a",
   "metadata": {},
   "outputs": [],
   "source": []
  }
 ],
 "metadata": {
  "environment": {
   "kernel": "python3",
   "name": "common-cpu.m82",
   "type": "gcloud",
   "uri": "gcr.io/deeplearning-platform-release/base-cpu:m82"
  },
  "kernelspec": {
   "display_name": "Python 3",
   "language": "python",
   "name": "python3"
  },
  "language_info": {
   "codemirror_mode": {
    "name": "ipython",
    "version": 3
   },
   "file_extension": ".py",
   "mimetype": "text/x-python",
   "name": "python",
   "nbconvert_exporter": "python",
   "pygments_lexer": "ipython3",
   "version": "3.7.10"
  }
 },
 "nbformat": 4,
 "nbformat_minor": 5
}
