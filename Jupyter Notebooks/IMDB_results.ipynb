{
 "cells": [
  {
   "cell_type": "code",
   "execution_count": 1,
   "id": "9b3de772-47e3-4ed0-8f82-128ad73dd926",
   "metadata": {},
   "outputs": [],
   "source": [
    "import os\n",
    "\n",
    "root_dir = os.path.dirname(os.path.abspath('PageRank_IMDB.jpynb'))\n",
    "\n",
    "content_dir = os.path.join(root_dir, \"content/\")\n",
    "if not os.path.isdir(content_dir):\n",
    "    os.mkdir(content_dir)\n",
    "    \n",
    "kaggle_dir = os.path.join(root_dir, \".kaggle/\")\n",
    "if not os.path.isdir(kaggle_dir):\n",
    "    os.mkdir(kaggle_dir)    \n",
    "    \n",
    "variables_dir = os.path.join(content_dir, \"variables/\")\n",
    "if not os.path.isdir(variables_dir):\n",
    "    os.mkdir(variables_dir)  "
   ]
  },
  {
   "cell_type": "code",
   "execution_count": 2,
   "id": "47b0fd20-ffd1-4a87-8b28-7d23b5ed1de4",
   "metadata": {},
   "outputs": [],
   "source": [
    "import gc\n",
    "import json\n",
    "import zipfile\n",
    "import pickle\n",
    "import pandas as pd\n",
    "import numpy as np\n",
    "import networkx as nx\n",
    "import matplotlib.pyplot as plt\n",
    "import sys\n",
    "\n",
    "def getsize(obj):\n",
    "    print('{:.2f} MB'.format(sys.getsizeof(obj)/(2**20)))"
   ]
  },
  {
   "cell_type": "markdown",
   "id": "5e9bab96-79e8-450d-a9bd-567e190e937d",
   "metadata": {},
   "source": [
    "## Loading variables"
   ]
  },
  {
   "cell_type": "code",
   "execution_count": 3,
   "id": "33ab8e3e-ca41-4703-bc11-3df30e04148c",
   "metadata": {},
   "outputs": [],
   "source": [
    "with open(os.path.join(variables_dir, 'page_rank.pkl'), 'rb') as inpt:\n",
    "    page_rank = pickle.load(inpt)"
   ]
  },
  {
   "cell_type": "code",
   "execution_count": 4,
   "id": "173c6de7-9120-45b5-99e5-fce9b11f8f5b",
   "metadata": {},
   "outputs": [],
   "source": [
    "with open(os.path.join(variables_dir, 'person.pkl'), 'rb') as inpt:\n",
    "    person = pickle.load(inpt)"
   ]
  },
  {
   "cell_type": "code",
   "execution_count": 5,
   "id": "db1be459-4561-4ba0-8a5e-9e6ad1692175",
   "metadata": {},
   "outputs": [],
   "source": [
    "with open(os.path.join(variables_dir, 'connection_matrix.pkl'), 'rb') as inpt:\n",
    "    connection_matrix = pickle.load(inpt)"
   ]
  },
  {
   "cell_type": "code",
   "execution_count": 7,
   "id": "cc88b963-4fd8-4f1c-8a6b-f8253b8b756c",
   "metadata": {},
   "outputs": [
    {
     "name": "stderr",
     "output_type": "stream",
     "text": [
      "/opt/conda/lib/python3.7/site-packages/IPython/core/interactiveshell.py:3444: DtypeWarning: Columns (5) have mixed types.Specify dtype option on import or set low_memory=False.\n",
      "  exec(code_obj, self.user_global_ns, self.user_ns)\n"
     ]
    }
   ],
   "source": [
    "movie_useful_cols = ['tconst', 'titleType', 'primaryTitle', 'startYear', 'genres']\n",
    "subset_m = None\n",
    "movie = pd.read_csv(os.path.join(content_dir, \"title.basics.tsv/title.basics.tsv\"), sep=\"\\t\", usecols=movie_useful_cols,\n",
    "                          nrows=subset_m)"
   ]
  },
  {
   "cell_type": "code",
   "execution_count": 8,
   "id": "97767539-b4fd-4459-8bd4-d03bf6b91469",
   "metadata": {},
   "outputs": [],
   "source": [
    "subset_mr = None\n",
    "movie_ratings = pd.read_csv(os.path.join(content_dir, \"title.ratings.tsv/title.ratings.tsv\"), sep=\"\\t\",\n",
    "                          nrows=subset_mr)"
   ]
  },
  {
   "cell_type": "code",
   "execution_count": 9,
   "id": "3ea1cbdf-5c00-44d6-a2b6-8d8429304737",
   "metadata": {},
   "outputs": [],
   "source": [
    "movie_with_ratings = movie_ratings.merge(movie, on='tconst', how='right')"
   ]
  },
  {
   "cell_type": "code",
   "execution_count": 10,
   "id": "f82bb12d-44a7-4ed4-b8aa-b1969997c096",
   "metadata": {},
   "outputs": [],
   "source": [
    "with open(os.path.join(variables_dir, 'movie_person.pkl'), 'rb') as inpt:\n",
    "    movie_person = pickle.load(inpt)"
   ]
  },
  {
   "cell_type": "markdown",
   "id": "252a1bdf-9bbc-4c5a-b22b-4118d59d560d",
   "metadata": {},
   "source": [
    "## Data visualization"
   ]
  },
  {
   "cell_type": "code",
   "execution_count": 11,
   "id": "639fb38e-7c5a-4987-89cb-0e01d5951b8b",
   "metadata": {},
   "outputs": [],
   "source": [
    "rank = pd.DataFrame(page_rank, index=range(len(page_rank)), columns=['pageRank'])\n",
    "rank['rank'] = rank['pageRank'].rank(method='first', ascending=False)"
   ]
  },
  {
   "cell_type": "code",
   "execution_count": 12,
   "id": "df1643bb-a693-455e-96d6-89020e498fe3",
   "metadata": {},
   "outputs": [],
   "source": [
    "person_rank = person.join(rank, how='right')"
   ]
  },
  {
   "cell_type": "code",
   "execution_count": 13,
   "id": "149a17cf-6476-4042-80e8-b50ff7fa1936",
   "metadata": {},
   "outputs": [
    {
     "data": {
      "text/html": [
       "<div>\n",
       "<style scoped>\n",
       "    .dataframe tbody tr th:only-of-type {\n",
       "        vertical-align: middle;\n",
       "    }\n",
       "\n",
       "    .dataframe tbody tr th {\n",
       "        vertical-align: top;\n",
       "    }\n",
       "\n",
       "    .dataframe thead th {\n",
       "        text-align: right;\n",
       "    }\n",
       "</style>\n",
       "<table border=\"1\" class=\"dataframe\">\n",
       "  <thead>\n",
       "    <tr style=\"text-align: right;\">\n",
       "      <th></th>\n",
       "      <th>nconst</th>\n",
       "      <th>primaryName</th>\n",
       "      <th>primaryProfession</th>\n",
       "      <th>pageRank</th>\n",
       "      <th>rank</th>\n",
       "    </tr>\n",
       "  </thead>\n",
       "  <tbody>\n",
       "    <tr>\n",
       "      <th>31453</th>\n",
       "      <td>nm0090367</td>\n",
       "      <td>Christian Bobet</td>\n",
       "      <td>actor,writer</td>\n",
       "      <td>0.000060</td>\n",
       "      <td>1.0</td>\n",
       "    </tr>\n",
       "    <tr>\n",
       "      <th>443</th>\n",
       "      <td>nm0000465</td>\n",
       "      <td>Ron Jeremy</td>\n",
       "      <td>actor,director,writer</td>\n",
       "      <td>0.000040</td>\n",
       "      <td>2.0</td>\n",
       "    </tr>\n",
       "    <tr>\n",
       "      <th>589</th>\n",
       "      <td>nm0000616</td>\n",
       "      <td>Eric Roberts</td>\n",
       "      <td>actor,producer,soundtrack</td>\n",
       "      <td>0.000039</td>\n",
       "      <td>3.0</td>\n",
       "    </tr>\n",
       "    <tr>\n",
       "      <th>59297</th>\n",
       "      <td>nm0180569</td>\n",
       "      <td>Sergio Corona</td>\n",
       "      <td>actor,composer,producer</td>\n",
       "      <td>0.000034</td>\n",
       "      <td>4.0</td>\n",
       "    </tr>\n",
       "    <tr>\n",
       "      <th>637262</th>\n",
       "      <td>nm2187104</td>\n",
       "      <td>Malikha Mallette</td>\n",
       "      <td>actress</td>\n",
       "      <td>0.000033</td>\n",
       "      <td>5.0</td>\n",
       "    </tr>\n",
       "    <tr>\n",
       "      <th>18140</th>\n",
       "      <td>nm0048389</td>\n",
       "      <td>Dee Bradley Baker</td>\n",
       "      <td>actor,soundtrack,miscellaneous</td>\n",
       "      <td>0.000033</td>\n",
       "      <td>6.0</td>\n",
       "    </tr>\n",
       "    <tr>\n",
       "      <th>120092</th>\n",
       "      <td>nm0392056</td>\n",
       "      <td>Steve Holmes</td>\n",
       "      <td>actor,director,producer</td>\n",
       "      <td>0.000030</td>\n",
       "      <td>7.0</td>\n",
       "    </tr>\n",
       "    <tr>\n",
       "      <th>84351</th>\n",
       "      <td>nm0263582</td>\n",
       "      <td>Erik Everhard</td>\n",
       "      <td>actor,director,producer</td>\n",
       "      <td>0.000029</td>\n",
       "      <td>8.0</td>\n",
       "    </tr>\n",
       "    <tr>\n",
       "      <th>197959</th>\n",
       "      <td>nm0676182</td>\n",
       "      <td>Mr. Pete</td>\n",
       "      <td>actor,director,camera_department</td>\n",
       "      <td>0.000029</td>\n",
       "      <td>9.0</td>\n",
       "    </tr>\n",
       "    <tr>\n",
       "      <th>763</th>\n",
       "      <td>nm0000799</td>\n",
       "      <td>Edward Asner</td>\n",
       "      <td>actor,soundtrack,producer</td>\n",
       "      <td>0.000029</td>\n",
       "      <td>10.0</td>\n",
       "    </tr>\n",
       "  </tbody>\n",
       "</table>\n",
       "</div>"
      ],
      "text/plain": [
       "           nconst        primaryName                 primaryProfession  \\\n",
       "31453   nm0090367    Christian Bobet                      actor,writer   \n",
       "443     nm0000465         Ron Jeremy             actor,director,writer   \n",
       "589     nm0000616       Eric Roberts         actor,producer,soundtrack   \n",
       "59297   nm0180569      Sergio Corona           actor,composer,producer   \n",
       "637262  nm2187104   Malikha Mallette                           actress   \n",
       "18140   nm0048389  Dee Bradley Baker    actor,soundtrack,miscellaneous   \n",
       "120092  nm0392056       Steve Holmes           actor,director,producer   \n",
       "84351   nm0263582      Erik Everhard           actor,director,producer   \n",
       "197959  nm0676182           Mr. Pete  actor,director,camera_department   \n",
       "763     nm0000799       Edward Asner         actor,soundtrack,producer   \n",
       "\n",
       "        pageRank  rank  \n",
       "31453   0.000060   1.0  \n",
       "443     0.000040   2.0  \n",
       "589     0.000039   3.0  \n",
       "59297   0.000034   4.0  \n",
       "637262  0.000033   5.0  \n",
       "18140   0.000033   6.0  \n",
       "120092  0.000030   7.0  \n",
       "84351   0.000029   8.0  \n",
       "197959  0.000029   9.0  \n",
       "763     0.000029  10.0  "
      ]
     },
     "execution_count": 13,
     "metadata": {},
     "output_type": "execute_result"
    }
   ],
   "source": [
    "person_rank[person_rank['rank'] <= 10].sort_values(by='rank')"
   ]
  },
  {
   "cell_type": "markdown",
   "id": "6de1f34b-d9fe-4bcc-b74c-12f6b1c40207",
   "metadata": {},
   "source": [
    "### How many actors did the top-ranked actor starred with?"
   ]
  },
  {
   "cell_type": "code",
   "execution_count": 14,
   "id": "b04c8efd-7228-49ed-9df9-caadbf7d4af0",
   "metadata": {},
   "outputs": [
    {
     "data": {
      "text/plain": [
       "1250.0"
      ]
     },
     "execution_count": 14,
     "metadata": {},
     "output_type": "execute_result"
    }
   ],
   "source": [
    "top_index = person_rank[person_rank['rank'] == 1].index[0]\n",
    "for (b, a, p) in connection_matrix:\n",
    "    if a == top_index:\n",
    "        break\n",
    "        \n",
    "1/p"
   ]
  },
  {
   "cell_type": "code",
   "execution_count": 15,
   "id": "1607b474-06b6-4165-bfd9-eae18329536a",
   "metadata": {},
   "outputs": [
    {
     "data": {
      "text/plain": [
       "True"
      ]
     },
     "execution_count": 15,
     "metadata": {},
     "output_type": "execute_result"
    }
   ],
   "source": [
    "set([1,2]) in [set([2,1]), set([1,3])]"
   ]
  },
  {
   "cell_type": "markdown",
   "id": "a529bd7d-a33a-4a21-acd2-9eb58ce7f30e",
   "metadata": {},
   "source": [
    "### Which actors in the top 10 starred together?"
   ]
  },
  {
   "cell_type": "code",
   "execution_count": 16,
   "id": "acfe7640-855d-404d-a72e-98015abcf566",
   "metadata": {},
   "outputs": [
    {
     "name": "stdout",
     "output_type": "stream",
     "text": [
      "Eric Roberts and Ron Jeremy\n",
      "Steve Holmes and Ron Jeremy\n",
      "Erik Everhard and Ron Jeremy\n",
      "Edward Asner and Eric Roberts\n",
      "Dee Bradley Baker and Edward Asner\n",
      "Mr. Pete and Erik Everhard\n",
      "Steve Holmes and Erik Everhard\n",
      "Mr. Pete and Steve Holmes\n"
     ]
    }
   ],
   "source": [
    "top10_index = list(person_rank[person_rank['rank'] <= 10].index)\n",
    "duplicates = list()\n",
    "for (b, a, p) in connection_matrix:\n",
    "    if b in top10_index and a in top10_index:\n",
    "        if set([b,a]) not in duplicates:\n",
    "            print(f'{person_rank.iloc[b,1]} and {person_rank.iloc[a,1]}')\n",
    "            duplicates.append(set([b,a]))"
   ]
  },
  {
   "cell_type": "markdown",
   "id": "cef5440a-d598-4001-a5a8-f1c9647c8c34",
   "metadata": {},
   "source": [
    "### What are the top-rated movies starring the top-ranked actors?"
   ]
  },
  {
   "cell_type": "code",
   "execution_count": 17,
   "id": "bf3e96e4-ed6b-44c2-92bf-d0deb8ede1dd",
   "metadata": {},
   "outputs": [],
   "source": [
    "def get_toprated(r):\n",
    "    movies_r = list(movie_person[movie_person['nconst'] == person_rank[person_rank['rank'] == r]['nconst'].values[0]]['tconst'].values)\n",
    "    movies_r = movie_with_ratings[movie_with_ratings['tconst'].isin(movies_r)]\n",
    "    toprated = movies_r.loc[movies_r['averageRating'].idxmax(skipna = True),:]\n",
    "    \n",
    "    return toprated"
   ]
  },
  {
   "cell_type": "code",
   "execution_count": 18,
   "id": "0454c106-1ee3-410b-a292-df4c10b84d86",
   "metadata": {},
   "outputs": [
    {
     "name": "stdout",
     "output_type": "stream",
     "text": [
      "\"Petits secrets entre voisins\" was the top-rated movie starring Christian Bobet, with 5.7/10 stars.\n",
      "\"Porn Academy\" was the top-rated movie starring Ron Jeremy, with 9.3/10 stars.\n",
      "\"Orange Kid\" was the top-rated movie starring Eric Roberts, with 9.4/10 stars.\n",
      "\"Accidente del destino\" was the top-rated movie starring Sergio Corona, with 9.3/10 stars.\n",
      "\"Deadly Divorce\" was the top-rated movie starring Malikha Mallette, with 9.6/10 stars.\n",
      "\"Episode XCIII\" was the top-rated movie starring Dee Bradley Baker, with 9.8/10 stars.\n",
      "\"Private Black Label 27: Private Love Story\" was the top-rated movie starring Steve Holmes, with 9.2/10 stars.\n",
      "\"3-Way Fever\" was the top-rated movie starring Erik Everhard, with 9.4/10 stars.\n",
      "\"Phat Ass Tits 4\" was the top-rated movie starring Mr. Pete, with 9.6/10 stars.\n",
      "\"Spear-Carriers\" was the top-rated movie starring Edward Asner, with 9.6/10 stars.\n"
     ]
    }
   ],
   "source": [
    "for r in range(1,11):\n",
    "    who = person_rank[person_rank['rank'] == r].iloc[0,1]\n",
    "    toprated = get_toprated(r)\n",
    "    print(f'\"{toprated[\"primaryTitle\"]}\" was the top-rated movie starring {who}, with {toprated[\"averageRating\"]}/10 stars.')"
   ]
  }
 ],
 "metadata": {
  "environment": {
   "kernel": "python3",
   "name": "common-cpu.m82",
   "type": "gcloud",
   "uri": "gcr.io/deeplearning-platform-release/base-cpu:m82"
  },
  "kernelspec": {
   "display_name": "Python 3",
   "language": "python",
   "name": "python3"
  },
  "language_info": {
   "codemirror_mode": {
    "name": "ipython",
    "version": 3
   },
   "file_extension": ".py",
   "mimetype": "text/x-python",
   "name": "python",
   "nbconvert_exporter": "python",
   "pygments_lexer": "ipython3",
   "version": "3.7.10"
  }
 },
 "nbformat": 4,
 "nbformat_minor": 5
}
